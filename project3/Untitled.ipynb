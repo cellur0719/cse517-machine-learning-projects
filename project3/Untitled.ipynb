{
 "cells": [
  {
   "cell_type": "code",
   "execution_count": null,
   "metadata": {},
   "outputs": [],
   "source": []
  },
  {
   "cell_type": "code",
   "execution_count": 3,
   "metadata": {},
   "outputs": [],
   "source": [
    "import numpy as np\n",
    "from computeK import computeK\n",
    "from generateQP import generateQP\n",
    "from recoverBias import recoverBias\n",
    "from cvxopt import solvers\n",
    "from createsvmclassifier import createsvmclassifier"
   ]
  },
  {
   "cell_type": "code",
   "execution_count": 4,
   "metadata": {},
   "outputs": [],
   "source": [
    "xTr = np.genfromtxt('xTr.csv', delimiter=',')\n",
    "yTr = np.genfromtxt('yTr.csv', delimiter=',').reshape((xTr.shape[1], 1))"
   ]
  },
  {
   "cell_type": "code",
   "execution_count": 100,
   "metadata": {},
   "outputs": [],
   "source": [
    "C = 1\n",
    "P = 1\n",
    "ktype='rbf'"
   ]
  },
  {
   "cell_type": "code",
   "execution_count": 114,
   "metadata": {},
   "outputs": [],
   "source": [
    "K = computeK(ktype, xTr, xTr, P)\n",
    "\n",
    "#print(\"Generate QP...\")\n",
    "Q, p, G, h, A, b = generateQP(K, yTr, C)\n",
    "\n",
    "#print(\"solve QP\")\n",
    "solvers.options['show_progress'] = False\n",
    "sol = solvers.qp(Q, p, G, h, A, b)\n",
    "#print('Solution status:', sol['status'])\n",
    "alphas = np.array(sol['x'])"
   ]
  },
  {
   "cell_type": "code",
   "execution_count": 120,
   "metadata": {},
   "outputs": [
    {
     "name": "stdout",
     "output_type": "stream",
     "text": [
      "[0.35627398]\n"
     ]
    }
   ],
   "source": [
    "combine = (C-alphas)*alphas\n",
    "maxCom = np.max(combine)\n",
    "index = np.where(combine == maxCom)\n",
    "index = int(index[0])\n",
    "bias = yTr[index] - K[:,index].dot(alphas*yTr)\n",
    "print(bias)"
   ]
  },
  {
   "cell_type": "code",
   "execution_count": 119,
   "metadata": {},
   "outputs": [
    {
     "data": {
      "text/plain": [
       "(100, 1)"
      ]
     },
     "execution_count": 119,
     "metadata": {},
     "output_type": "execute_result"
    }
   ],
   "source": [
    "alphas.shape"
   ]
  },
  {
   "cell_type": "code",
   "execution_count": null,
   "metadata": {},
   "outputs": [],
   "source": []
  },
  {
   "cell_type": "code",
   "execution_count": 97,
   "metadata": {},
   "outputs": [
    {
     "data": {
      "text/plain": [
       "90"
      ]
     },
     "execution_count": 97,
     "metadata": {},
     "output_type": "execute_result"
    }
   ],
   "source": [
    "sv"
   ]
  },
  {
   "cell_type": "code",
   "execution_count": 50,
   "metadata": {},
   "outputs": [
    {
     "data": {
      "text/plain": [
       "array([[170, 208, 250, 296],\n",
       "       [170, 208, 250, 296],\n",
       "       [170, 208, 250, 296]])"
      ]
     },
     "execution_count": 50,
     "metadata": {},
     "output_type": "execute_result"
    }
   ],
   "source": [
    "second"
   ]
  },
  {
   "cell_type": "code",
   "execution_count": 52,
   "metadata": {},
   "outputs": [
    {
     "data": {
      "text/plain": [
       "array([[6.76179381e+073, 2.15403242e+090, 3.74645461e+108,\n",
       "        3.55767804e+128],\n",
       "       [6.76179381e+073, 2.15403242e+090, 3.74645461e+108,\n",
       "        3.55767804e+128],\n",
       "       [6.76179381e+073, 2.15403242e+090, 3.74645461e+108,\n",
       "        3.55767804e+128]])"
      ]
     },
     "execution_count": 52,
     "metadata": {},
     "output_type": "execute_result"
    }
   ],
   "source": [
    "np.exp(second)"
   ]
  },
  {
   "cell_type": "code",
   "execution_count": 1,
   "metadata": {},
   "outputs": [],
   "source": [
    "i=0\n",
    "testSize=20\n",
    "n=100"
   ]
  },
  {
   "cell_type": "code",
   "execution_count": 1,
   "metadata": {},
   "outputs": [],
   "source": [
    "from l2distance import l2distance"
   ]
  },
  {
   "cell_type": "code",
   "execution_count": 5,
   "metadata": {},
   "outputs": [
    {
     "data": {
      "text/plain": [
       "array([[0.        , 2.71097826, 4.82300604, ..., 2.86937569, 2.83622939,\n",
       "        1.39963769],\n",
       "       [2.71097826, 0.        , 7.02280809, ..., 5.20670596, 2.12490909,\n",
       "        2.65708912],\n",
       "       [4.82300604, 7.02280809, 0.        , ..., 1.95852113, 5.62508913,\n",
       "        6.09025514],\n",
       "       ...,\n",
       "       [2.86937569, 5.20670596, 1.95852113, ..., 0.        , 4.13308067,\n",
       "        4.13612832],\n",
       "       [2.83622939, 2.12490909, 5.62508913, ..., 4.13308067, 0.        ,\n",
       "        3.70121623],\n",
       "       [1.39963769, 2.65708912, 6.09025514, ..., 4.13612832, 3.70121623,\n",
       "        0.        ]])"
      ]
     },
     "execution_count": 5,
     "metadata": {},
     "output_type": "execute_result"
    }
   ],
   "source": [
    "l2distance(xTr,xTr)"
   ]
  },
  {
   "cell_type": "code",
   "execution_count": null,
   "metadata": {},
   "outputs": [],
   "source": []
  }
 ],
 "metadata": {
  "kernelspec": {
   "display_name": "Python 3",
   "language": "python",
   "name": "python3"
  },
  "language_info": {
   "codemirror_mode": {
    "name": "ipython",
    "version": 3
   },
   "file_extension": ".py",
   "mimetype": "text/x-python",
   "name": "python",
   "nbconvert_exporter": "python",
   "pygments_lexer": "ipython3",
   "version": "3.6.8"
  }
 },
 "nbformat": 4,
 "nbformat_minor": 2
}
